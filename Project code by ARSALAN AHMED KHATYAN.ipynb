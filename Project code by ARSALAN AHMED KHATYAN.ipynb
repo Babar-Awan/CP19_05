{
 "cells": [
  {
   "cell_type": "markdown",
   "metadata": {},
   "source": [
    "# Face Detection with real time (GUI Based)\n",
    "\n",
    "Libraries related to our project:\n",
    "    1- Opencv\n",
    "    2- numpy\n",
    "    3- Har Cascade / Dlib\n",
    "    4- GUI by Tkinter/pyqt5\n",
    "    \n",
    " till now I took Opencv,numpy and datetime library in our project."
   ]
  },
  {
   "cell_type": "code",
   "execution_count": 7,
   "metadata": {
    "collapsed": true
   },
   "outputs": [],
   "source": [
    "#In this code work on OpenCV, numpy and datetime library done by Arsalan Ahmed Khatyan and work on dlib done by Haziq Ahmed Shaikh\n",
    "\n",
    "\n",
    "import cv2 \n",
    "import numpy as np #this library use for frame\n",
    "import dlib #this library use for detection of face\n",
    "import datetime #This Library gives current date and time\n",
    "import sys\n",
    "\n",
    "\n",
    "cap = cv2.VideoCapture(0) #this is taking video\n",
    "detector = dlib.get_frontal_face_detector() \n",
    "\n",
    "font=cv2.FONT_HERSHEY_DUPLEX \n",
    "font_color=(0,255,0)\n",
    "thickness=2\n",
    "org=(15,70)\n",
    "line_type=cv2.LINE_AA\n",
    "\n",
    "while True: #this loop is use to make video contineously until press \"s\"\n",
    "    ret,frame=cap.read() #ret give true or false by checking video camera is working or not and frame read video and saved in it.\n",
    "    frame = cv2.flip(frame,1) #here in parameter 1 means flip frame in horizontally and if pass 0 then frame flip in vertically.\n",
    "    gray=cv2.cvtColor(frame,cv2.COLOR_BGR2GRAY) #it will change the color of video from colored to gray.\n",
    "    faces=detector(gray)#this is for detection of gray scale live video.\n",
    "    \n",
    "    face_counter=0 #Face Counter\n",
    "    for face in faces: #This loop used for making rectangle around faces one by one.\n",
    "        x,y=face.left(),face.top()\n",
    "        w,h=face.right(),face.bottom()\n",
    "        face_counter+=1 #Face Counter\n",
    "        cv2.rectangle(frame,(x,y),(w,h),(0,225,0),3) #by this Making Rectangular shape around faces.\n",
    "        \n",
    "    cv2.putText( frame ,\"Number of faces : \"+str(face_counter) , org , font, 1 , font_color , thickness , line_type ) #by Puting Face counter value on real time photage  \n",
    "    cv2.imshow(\"Face Dectection with real time\",frame) #This is showing or displying the video.\n",
    "    \n",
    "#For Saving Data in notepad file,I used Filing method.    \n",
    "    if(face_counter>0): #Condition       \n",
    "        location= open(\"Data.txt\",\"a\") #Data Location\n",
    "        date_now=datetime.datetime.now()  #Its Gives Real time   \n",
    "        st_datenow=(str(date_now)).replace(\" \",\"\\t\") \n",
    "        location.write((\"\\n\"+str(st_datenow)+\"\\t\\t\"+str(face_counter)+\"\\n\")) #Writing data in notepad file.\n",
    "        location.close() #closing of filing\n",
    "        \n",
    "        \n",
    "    if (cv2.waitKey(1) == ord(\"a\")):\n",
    "         \n",
    "        break\n",
    "\n",
    "cap.release() #This is used to realease video or show video     \n",
    "cv2.destroyAllWindows() #this commond will destroy all videos when user press cancel button.\n",
    "\n"
   ]
  },
  {
   "cell_type": "code",
   "execution_count": null,
   "metadata": {
    "collapsed": true
   },
   "outputs": [],
   "source": []
  }
 ],
 "metadata": {
  "kernelspec": {
   "display_name": "Python 3",
   "language": "python",
   "name": "python3"
  },
  "language_info": {
   "codemirror_mode": {
    "name": "ipython",
    "version": 3
   },
   "file_extension": ".py",
   "mimetype": "text/x-python",
   "name": "python",
   "nbconvert_exporter": "python",
   "pygments_lexer": "ipython3",
   "version": "3.6.1"
  }
 },
 "nbformat": 4,
 "nbformat_minor": 2
}
