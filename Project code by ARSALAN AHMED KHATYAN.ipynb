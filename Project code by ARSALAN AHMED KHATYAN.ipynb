{
 "cells": [
  {
   "cell_type": "markdown",
   "metadata": {},
   "source": [
    "# Face Detection with real time (GUI Based)\n",
    "\n",
    "Libraries related to our project:\n",
    "    1- Opencv\n",
    "    2- numpy\n",
    "    3- Har Cascade / Dlib\n",
    "    4- GUI by Tkinter/pyqt5\n",
    "    \n",
    " till now I took Opencv,numpy and datetime library in our project."
   ]
  },
  {
   "cell_type": "markdown",
   "metadata": {},
   "source": [
    "# here in this code dlib work is missing because till now work on dlib has not done."
   ]
  },
  {
   "cell_type": "code",
   "execution_count": 1,
   "metadata": {},
   "outputs": [],
   "source": [
    "import cv2 \n",
    "import numpy as np #this library use for frame\n",
    " \n",
    "    \n",
    "    \n",
    "cap = cv2.VideoCapture(0) #this is taking video\n",
    "\n",
    "while True: #this loop is use to make video contineously until press \"s\"\n",
    "    \n",
    "    ret,frame=cap.read() #ret give true or false by checking video camera is working or not and frame read video and saved in it.\n",
    "    \n",
    "    frame = cv2.flip(frame,1) #here in parameter 1 means flip frame in horizontally and if pass 0 then frame flip in vertically.\n",
    "    \n",
    "    gray=cv2.cvtColor(frame,cv2.COLOR_BGR2GRAY) #it will change the color of video from colored to gray.\n",
    "    \n",
    "    cv2.imshow(\"frame\",gray) #This is showingor displying the video.\n",
    "\n",
    "    if cv2.waitKey(1) == ord(\"s\"):\n",
    "        break\n",
    "        \n",
    "cap.release() #This is used to realease video or show video\n",
    "cv2.destroyAllWindows() \n",
    "\n"
   ]
  },
  {
   "cell_type": "code",
   "execution_count": null,
   "metadata": {},
   "outputs": [],
   "source": [
    "#Code for save data in real time\n",
    "#Incompete code \n",
    "\n",
    "import datetime\n",
    "\n",
    "location= open(r\"desktop\\arsalan.txt\",\"a\")\n",
    "\n",
    "location.write(\"Sno.\\tDate\\t\\tTime\\n\\n\")\n",
    "\n",
    "for i in range(1,6):\n",
    "    \n",
    "    date_now=datetime.datetime.now() \n",
    "    \n",
    "    st_datenow=(str(date_now)).replace(\" \",\"\\t\")\n",
    "\n",
    "    location.write(str(i)+\"\\t\"+(str(st_datenow)+\"\\n\"))\n",
    "\n",
    "location.close()\n"
   ]
  }
 ],
 "metadata": {
  "kernelspec": {
   "display_name": "Python 3",
   "language": "python",
   "name": "python3"
  },
  "language_info": {
   "codemirror_mode": {
    "name": "ipython",
    "version": 3
   },
   "file_extension": ".py",
   "mimetype": "text/x-python",
   "name": "python",
   "nbconvert_exporter": "python",
   "pygments_lexer": "ipython3",
   "version": "3.7.3"
  }
 },
 "nbformat": 4,
 "nbformat_minor": 2
}
