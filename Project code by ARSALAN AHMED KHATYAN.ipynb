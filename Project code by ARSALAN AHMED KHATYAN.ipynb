{
 "cells": [
  {
   "cell_type": "markdown",
   "metadata": {},
   "source": [
    "# Face Detection with real time (GUI Based)\n",
    "\n",
    "Libraries related to our project:\n",
    "    1- Opencv\n",
    "    2- numpy\n",
    "    3- Har Cascade / Dlib\n",
    "    4- GUI by Tkinter/pyqt5\n",
    "    \n",
    " till now I took Opencv,numpy and datetime library in our project."
   ]
  },
  {
   "cell_type": "code",
   "execution_count": 1,
   "metadata": {},
   "outputs": [
    {
     "name": "stdout",
     "output_type": "stream",
     "text": [
      "The Number of Faces are:  1\n"
     ]
    }
   ],
   "source": [
    "#In this code work on OpenCV and numpy done by Arsalan Ahmed Khatyan and work on dlib done by Haziq Ahmed Shaikh\n",
    "\n",
    "\n",
    "import cv2 \n",
    "import numpy as np #this library use for frame\n",
    "import dlib #this library use for detection of face\n",
    "import sys\n",
    "\n",
    "\n",
    "cap = cv2.VideoCapture(0) #this is taking video\n",
    "detector = dlib.get_frontal_face_detector() \n",
    "\n",
    "while True: #this loop is use to make video contineously until press \"s\"\n",
    "    ret,frame=cap.read() #ret give true or false by checking video camera is working or not and frame read video and saved in it.\n",
    "    frame = cv2.flip(frame,1) #here in parameter 1 means flip frame in horizontally and if pass 0 then frame flip in vertically.\n",
    "    gray=cv2.cvtColor(frame,cv2.COLOR_BGR2GRAY) #it will change the color of video from colored to gray.\n",
    "    faces=detector(gray)\n",
    "    \n",
    "    face_counter=0 #Face Counter\n",
    "    for face in faces:\n",
    "        x,y=face.left(),face.top()\n",
    "        w,h=face.right(),face.bottom()\n",
    "        face_counter+=1 #Face Counter\n",
    "        cv2.rectangle(frame,(x,y),(w,h),(0,225,0),3) #by this Making Rectangular shape around faces.\n",
    "    cv2.putText(frame,\"Number of faces are : \"+str(face_counter),(100,400), cv2.FONT_HERSHEY_DUPLEX,1,(0,0,255),2,cv2.LINE_AA) #by Puting Face counter value on real time photage  \n",
    "    cv2.imshow(\"Face Dectection with real time\",frame) #This is showing or displying the video.\n",
    "    \n",
    "    if (cv2.waitKey(1) == ord(\"a\")):\n",
    "        print(i) \n",
    "        break\n",
    "       \n",
    "cap.release() #This is used to realease video or show video\n",
    "cv2.destroyAllWindows()\n",
    "\n"
   ]
  },
  {
   "cell_type": "code",
   "execution_count": null,
   "metadata": {
    "collapsed": true
   },
   "outputs": [],
   "source": [
    "#Code for save data in real time\n",
    "#Incompete code \n",
    "\n",
    "import datetime\n",
    "\n",
    "location= open(r\"desktop\\arsalan.txt\",\"a\")\n",
    "\n",
    "location.write(\"Sno.\\tDate\\t\\tTime\\n\\n\")\n",
    "\n",
    "for i in range(1,6):\n",
    "    \n",
    "    date_now=datetime.datetime.now() \n",
    "    \n",
    "    st_datenow=(str(date_now)).replace(\" \",\"\\t\")\n",
    "\n",
    "    location.write(str(i)+\"\\t\"+(str(st_datenow)+\"\\n\"))\n",
    "\n",
    "location.close()\n"
   ]
  },
  {
   "cell_type": "code",
   "execution_count": null,
   "metadata": {
    "collapsed": true
   },
   "outputs": [],
   "source": []
  }
 ],
 "metadata": {
  "kernelspec": {
   "display_name": "Python 3",
   "language": "python",
   "name": "python3"
  },
  "language_info": {
   "codemirror_mode": {
    "name": "ipython",
    "version": 3
   },
   "file_extension": ".py",
   "mimetype": "text/x-python",
   "name": "python",
   "nbconvert_exporter": "python",
   "pygments_lexer": "ipython3",
   "version": "3.6.1"
  }
 },
 "nbformat": 4,
 "nbformat_minor": 2
}
