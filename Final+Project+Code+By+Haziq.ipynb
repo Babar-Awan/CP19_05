{
 "cells": [
  {
   "cell_type": "code",
   "execution_count": 7,
   "metadata": {
    "collapsed": true
   },
   "outputs": [],
   "source": [
    "import cv2 \n",
    "import numpy as np #this library use for frame\n",
    "import dlib #this library use for detection of face \n",
    "    \n",
    "cap = cv2.VideoCapture(0) #this is taking video\n",
    "detector = dlib.get_frontal_face_detector() \n",
    "\n",
    "while True: #this loop is use to make video contineously until press \"s\"\n",
    "    ret,frame=cap.read() #ret give true or false by checking video camera is working or not and frame read video and saved in it.\n",
    "    gray=cv2.cvtColor(frame,cv2.COLOR_BGR2GRAY) #it will change the color of video from colored to gray.\n",
    "    faces=detector(gray)\n",
    "    for face in faces:\n",
    "        x,y=face.left(),face.top()\n",
    "        w,h=face.right(),face.bottom()\n",
    "        \n",
    "        cv2.rectangle(frame,(x,y),(w,h),(0,225,0),3)\n",
    "    cv2.imshow(\"gray\",gray)\n",
    "    cv2.imshow(\"frame\",frame) #This is showingor displying the video.\n",
    "\n",
    "    if cv2.waitKey(1) == ord(\"s\"):\n",
    "        break\n",
    "        \n",
    "cap.release() #This is used to realease video or show video\n",
    "cv2.destroyAllWindows()"
   ]
  }
 ],
 "metadata": {
  "kernelspec": {
   "display_name": "Python 3",
   "language": "python",
   "name": "python3"
  },
  "language_info": {
   "codemirror_mode": {
    "name": "ipython",
    "version": 3
   },
   "file_extension": ".py",
   "mimetype": "text/x-python",
   "name": "python",
   "nbconvert_exporter": "python",
   "pygments_lexer": "ipython3",
   "version": "3.6.1"
  }
 },
 "nbformat": 4,
 "nbformat_minor": 2
}
