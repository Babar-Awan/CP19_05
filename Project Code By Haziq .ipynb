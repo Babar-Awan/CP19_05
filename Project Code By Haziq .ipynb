{
 "cells": [
  {
   "cell_type": "code",
   "execution_count": null,
   "metadata": {
    "collapsed": true
   },
   "outputs": [],
   "source": [
    "#Posting Again Because Someone Deleted My Code And I Dont Know Who Done It \n",
    "# This Is The Complete Code Of Our Project \n",
    "#Dlib(Detection Of Faces) By Me (Haziq Ahmed Shaikh)\n",
    "#OpenCv And Numpy By Arsalan Ahmed Khatyan\n",
    "#Remaining Gui Is Left Which Will Soon Done By Hassan Ali Gauhar\n",
    "#Report of Project And Compiling Of Code In Gui Will Soon Be Done By Our Leader Babar Awan. \n",
    "import cv2 \n",
    "import numpy as np #this library use for frame\n",
    "import dlib #this library use for detection of face\n",
    "import sys\n",
    "\n",
    "\n",
    "cap = cv2.VideoCapture(0) #this is taking video\n",
    "detector = dlib.get_frontal_face_detector() #return the face detector / uses for face detection\n",
    "\n",
    "while True: #this loop is use to make video contineously until press \"s\"\n",
    "    ret,frame=cap.read() #ret give true or false by checking video camera is working or not and frame read video and saved in it.\n",
    "    frame = cv2.flip(frame,1) #here in parameter 1 means flip frame in horizontally and if pass 0 then frame flip in vertically.\n",
    "    gray=cv2.cvtColor(frame,cv2.COLOR_BGR2GRAY) #it will change the color of video from colored to gray.\n",
    "    faces=detector(gray) #detect face in grayscale image\n",
    "    \n",
    "    face_counter=0 #Face Counter\n",
    "    for face in faces: # loop over the (x, y)-coordinates for the face landmarks on live camera \n",
    "        x,y=face.left(),face.top()\n",
    "        w,h=face.right(),face.bottom()\n",
    "        face_counter+=1 #Face Counter\n",
    "        cv2.rectangle(frame,(x,y),(w,h),(0,225,0),3) #by this Making Rectangular shape around faces.\n",
    "    cv2.putText(frame,\"Number of faces are : \"+str(face_counter),(100,400), cv2.FONT_HERSHEY_DUPLEX,1,(0,0,255),2,cv2.LINE_AA) #by Puting Face counter value on real time photage  \n",
    "    cv2.imshow(\"Face Dectection with real time\",frame) #This is showing or displying the video.\n",
    "    \n",
    "    if (cv2.waitKey(1) == ord(\"a\")):\n",
    "        #print(i) \n",
    "        break\n",
    "       \n",
    "cap.release() #This is used to realease video or show video\n",
    "cv2.destroyAllWindows()"
   ]
  }
 ],
 "metadata": {
  "kernelspec": {
   "display_name": "Python 3",
   "language": "python",
   "name": "python3"
  },
  "language_info": {
   "codemirror_mode": {
    "name": "ipython",
    "version": 3
   },
   "file_extension": ".py",
   "mimetype": "text/x-python",
   "name": "python",
   "nbconvert_exporter": "python",
   "pygments_lexer": "ipython3",
   "version": "3.6.1"
  }
 },
 "nbformat": 4,
 "nbformat_minor": 2
}
