{
 "cells": [
  {
   "cell_type": "markdown",
   "metadata": {},
   "source": [
    "Face Detection with real time (GUI Based)\n",
    "\n",
    "Libraries related to our project:\n",
    "    1- Opencv\n",
    "    2- numpy\n",
    "    3- Har Cascade / Dlib\n",
    "    4- GUI by Tkinter/pyqt5\n",
    "    \n",
    " I took Opencv library in our project"
   ]
  },
  {
   "cell_type": "code",
   "execution_count": 3,
   "metadata": {},
   "outputs": [
    {
     "data": {
      "text/plain": [
       "-1"
      ]
     },
     "execution_count": 3,
     "metadata": {},
     "output_type": "execute_result"
    }
   ],
   "source": [
    "#Opencv Library\n",
    "#Example Code\n",
    "\n",
    "import cv2 #Import Library\n",
    "\n",
    "img=cv2.imread('Quid-e-azam.jpg') #Read image by default function of opencv and saved in variable \"img\"\n",
    "\n",
    "cv2.imshow(\"Quid-e-azam image\",img) #Display the Coloured image with title by default function of opencv\n",
    "cv2.waitKey(0) #By this commond image display rapidly without taking too much time or hanging the PC\n"
   ]
  },
  {
   "cell_type": "code",
   "execution_count": 2,
   "metadata": {},
   "outputs": [
    {
     "data": {
      "text/plain": [
       "-1"
      ]
     },
     "execution_count": 2,
     "metadata": {},
     "output_type": "execute_result"
    }
   ],
   "source": [
    "#Opencv Library\n",
    "#Example Code\n",
    "\n",
    "import cv2 #Import Library\n",
    "\n",
    "img=cv2.imread('Quid-e-azam.jpg') #Read image by default function of opencv and saved in variable \"img\"\n",
    "img=cv2.cvtColor(img, cv2.COLOR_BGR2GRAY) #image color change by this commond and in this commond i take gray colour \n",
    "\n",
    "cv2.imshow(\"Quid-e-azam image\",img) #Display the gray coloured image with title by default function of opencv\n",
    "cv2.waitKey(0) #By this commond image display rapidly without taking too much time or hanging the PC\n"
   ]
  },
  {
   "cell_type": "code",
   "execution_count": null,
   "metadata": {},
   "outputs": [],
   "source": []
  }
 ],
 "metadata": {
  "kernelspec": {
   "display_name": "Python 3",
   "language": "python",
   "name": "python3"
  },
  "language_info": {
   "codemirror_mode": {
    "name": "ipython",
    "version": 3
   },
   "file_extension": ".py",
   "mimetype": "text/x-python",
   "name": "python",
   "nbconvert_exporter": "python",
   "pygments_lexer": "ipython3",
   "version": "3.7.3"
  }
 },
 "nbformat": 4,
 "nbformat_minor": 2
}
